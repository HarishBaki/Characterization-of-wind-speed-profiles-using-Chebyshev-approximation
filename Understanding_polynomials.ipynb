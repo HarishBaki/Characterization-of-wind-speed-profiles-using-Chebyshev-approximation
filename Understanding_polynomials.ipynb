{
 "cells": [
  {
   "cell_type": "markdown",
   "metadata": {},
   "source": [
    "# Trying Chebyshev polynomials to obtain the physical significance"
   ]
  },
  {
   "cell_type": "code",
   "execution_count": 2,
   "metadata": {},
   "outputs": [],
   "source": [
    "import numpy as np\n",
    "import sympy as sp\n",
    "\n",
    "# Define the symbol\n",
    "x = sp.symbols('x')\n",
    "c0, c1, c2, c3, c4 = sp.symbols('C_0 C_1 C_2 C_3 C_4')\n",
    "u = sp.symbols('u(x)')\n",
    "\n",
    "# Define the order for the Chebyshev polynomial\n",
    "order = 4\n",
    "\n",
    "# Generate the Chebyshev polynomial of the first kind for order 4 using the recurrence relation\n",
    "def chebyshev_polynomial(order):\n",
    "    T = [1, x]  # T0(x) = 1, T1(x) = x\n",
    "    for n in range(2, order + 1):\n",
    "        Tn = 2 * x * T[n-1] - T[n-2]\n",
    "        T.append(Tn)\n",
    "    return T\n",
    "\n",
    "T = chebyshev_polynomial(order)"
   ]
  },
  {
   "cell_type": "code",
   "execution_count": null,
   "metadata": {},
   "outputs": [
    {
     "data": {
      "text/latex": [
       "$\\displaystyle C_{0} + C_{1} x + C_{2} \\left(2 x^{2} - 1\\right) + C_{3} \\left(2 x \\left(2 x^{2} - 1\\right) - x\\right) + C_{4} \\left(- 2 x^{2} + 2 x \\left(2 x \\left(2 x^{2} - 1\\right) - x\\right) + 1\\right)$"
      ],
      "text/plain": [
       "C_0 + C_1*x + C_2*(2*x**2 - 1) + C_3*(2*x*(2*x**2 - 1) - x) + C_4*(-2*x**2 + 2*x*(2*x*(2*x**2 - 1) - x) + 1)"
      ]
     },
     "execution_count": 5,
     "metadata": {},
     "output_type": "execute_result"
    }
   ],
   "source": [
    "u = c0*T[0] + c1*T[1] + c2*T[2] + c3*T[3] + c4*T[4]\n",
    "sp.simplify(u)"
   ]
  },
  {
   "cell_type": "code",
   "execution_count": 4,
   "metadata": {},
   "outputs": [
    {
     "data": {
      "text/latex": [
       "$\\displaystyle -0.5$"
      ],
      "text/plain": [
       "-0.500000000000000"
      ]
     },
     "execution_count": 4,
     "metadata": {},
     "output_type": "execute_result"
    }
   ],
   "source": [
    "T[2].evalf(subs={x: 0.5})"
   ]
  },
  {
   "cell_type": "code",
   "execution_count": 6,
   "metadata": {},
   "outputs": [
    {
     "data": {
      "text/plain": [
       "(1, x, 2*x**2 - 1, x*(4*x**2 - 3), 8*x**4 - 8*x**2 + 1)"
      ]
     },
     "execution_count": 6,
     "metadata": {},
     "output_type": "execute_result"
    }
   ],
   "source": [
    "sp.simplify(T[0]), sp.simplify(T[1]), sp.simplify(T[2]), sp.simplify(T[3]), sp.simplify(T[4])"
   ]
  },
  {
   "cell_type": "code",
   "execution_count": null,
   "metadata": {},
   "outputs": [],
   "source": []
  }
 ],
 "metadata": {
  "kernelspec": {
   "display_name": "TabNet_env",
   "language": "python",
   "name": "python3"
  },
  "language_info": {
   "codemirror_mode": {
    "name": "ipython",
    "version": 3
   },
   "file_extension": ".py",
   "mimetype": "text/x-python",
   "name": "python",
   "nbconvert_exporter": "python",
   "pygments_lexer": "ipython3",
   "version": "3.10.15"
  }
 },
 "nbformat": 4,
 "nbformat_minor": 2
}
